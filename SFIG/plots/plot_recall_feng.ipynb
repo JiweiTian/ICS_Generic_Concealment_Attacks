{
 "cells": [
  {
   "cell_type": "code",
   "execution_count": 2,
   "metadata": {},
   "outputs": [],
   "source": [
    "import pandas as pd\n",
    "import matplotlib.pyplot as plt \n",
    "from cycler import cycler\n",
    "import numpy as np\n",
    "original = 0.469004\n",
    "results_attack=pd.read_csv('results_plot.csv')\n",
    "results_attack = results_attack.set_index('Unnamed: 0').transpose()\n",
    "results_attack.index = results_attack.index.astype(int)"
   ]
  },
  {
   "cell_type": "code",
   "execution_count": 6,
   "metadata": {},
   "outputs": [
    {
     "name": "stdout",
     "output_type": "stream",
     "text": [
      "['#1f77b4', '#ff7f0e', '#2ca02c', '#d62728', '#9467bd', '#8c564b', '#e377c2', '#7f7f7f', '#bcbd22', '#17becf']\n"
     ]
    },
    {
     "data": {
      "image/png": "[encoded data removed]",
      "text/plain": [
       "<Figure size 432x144 with 1 Axes>"
      ]
     },
     "metadata": {
      "needs_background": "light"
     },
     "output_type": "display_data"
    }
   ],
   "source": [
    "colors = plt.rcParams['axes.prop_cycle'].by_key()['color']\n",
    "print(colors)\n",
    "fig, ax = plt.subplots(figsize=(6,2))\n",
    "ax.set_prop_cycle(cycler(color=[colors[1]]+[colors[0]]+[colors[2]]) + cycler(linestyle=['-','--','-'])+ cycler(marker=['s','o','^']))\n",
    "for col in results_attack.columns:\n",
    "    results_attack[col].plot(ax=ax)\n",
    "ax.hlines(y=round(original,2),xmin=0, xmax=43, color='r', linestyles='--',)\n",
    "plt.legend(np.append(results_attack.columns.values, 'Original = '+str(round(original,2))),bbox_to_anchor=(0., 1.02, 1., .102), loc='lower left',ncol=4, mode=\"expand\", borderaxespad=0.)\n",
    "plt.xticks(np.arange(0,43,5))\n",
    "#ax.set_xlim(0.8,20.2)\n",
    "#plt.ylim(-0.1,1.1)\n",
    "plt.xlabel('# Controlled sensors k')\n",
    "plt.ylabel('Recall')\n",
    "plt.savefig('plot_recall_feng.pdf', bbox_inches = \"tight\")\n",
    "plt.show()"
   ]
  },
  {
   "cell_type": "code",
   "execution_count": 45,
   "metadata": {},
   "outputs": [
    {
     "data": {
      "text/html": [
       "<div>\n",
       "<style scoped>\n",
       "    .dataframe tbody tr th:only-of-type {\n",
       "        vertical-align: middle;\n",
       "    }\n",
       "\n",
       "    .dataframe tbody tr th {\n",
       "        vertical-align: top;\n",
       "    }\n",
       "\n",
       "    .dataframe thead th {\n",
       "        text-align: right;\n",
       "    }\n",
       "</style>\n",
       "<table border=\"1\" class=\"dataframe\">\n",
       "  <thead>\n",
       "    <tr style=\"text-align: right;\">\n",
       "      <th>Unnamed: 0</th>\n",
       "      <th>Stale</th>\n",
       "      <th>Replay</th>\n",
       "      <th>Gaussian</th>\n",
       "    </tr>\n",
       "  </thead>\n",
       "  <tbody>\n",
       "    <tr>\n",
       "      <th>2</th>\n",
       "      <td>0.440041</td>\n",
       "      <td>0.436484</td>\n",
       "      <td>0.527947</td>\n",
       "    </tr>\n",
       "    <tr>\n",
       "      <th>3</th>\n",
       "      <td>0.365346</td>\n",
       "      <td>0.359248</td>\n",
       "      <td>0.529472</td>\n",
       "    </tr>\n",
       "    <tr>\n",
       "      <th>4</th>\n",
       "      <td>0.013720</td>\n",
       "      <td>0.013720</td>\n",
       "      <td>0.472561</td>\n",
       "    </tr>\n",
       "    <tr>\n",
       "      <th>5</th>\n",
       "      <td>0.013720</td>\n",
       "      <td>0.013720</td>\n",
       "      <td>0.462907</td>\n",
       "    </tr>\n",
       "    <tr>\n",
       "      <th>6</th>\n",
       "      <td>0.013720</td>\n",
       "      <td>0.014736</td>\n",
       "      <td>0.457825</td>\n",
       "    </tr>\n",
       "    <tr>\n",
       "      <th>7</th>\n",
       "      <td>0.014228</td>\n",
       "      <td>0.015244</td>\n",
       "      <td>0.472561</td>\n",
       "    </tr>\n",
       "    <tr>\n",
       "      <th>8</th>\n",
       "      <td>0.013720</td>\n",
       "      <td>0.014736</td>\n",
       "      <td>0.455793</td>\n",
       "    </tr>\n",
       "    <tr>\n",
       "      <th>9</th>\n",
       "      <td>0.009146</td>\n",
       "      <td>0.012195</td>\n",
       "      <td>0.567581</td>\n",
       "    </tr>\n",
       "    <tr>\n",
       "      <th>10</th>\n",
       "      <td>0.008638</td>\n",
       "      <td>0.024898</td>\n",
       "      <td>0.585874</td>\n",
       "    </tr>\n",
       "    <tr>\n",
       "      <th>15</th>\n",
       "      <td>0.005081</td>\n",
       "      <td>0.013211</td>\n",
       "      <td>0.557419</td>\n",
       "    </tr>\n",
       "    <tr>\n",
       "      <th>20</th>\n",
       "      <td>0.014736</td>\n",
       "      <td>0.032520</td>\n",
       "      <td>0.676829</td>\n",
       "    </tr>\n",
       "  </tbody>\n",
       "</table>\n",
       "</div>"
      ],
      "text/plain": [
       "Unnamed: 0     Stale    Replay  Gaussian\n",
       "2           0.440041  0.436484  0.527947\n",
       "3           0.365346  0.359248  0.529472\n",
       "4           0.013720  0.013720  0.472561\n",
       "5           0.013720  0.013720  0.462907\n",
       "6           0.013720  0.014736  0.457825\n",
       "7           0.014228  0.015244  0.472561\n",
       "8           0.013720  0.014736  0.455793\n",
       "9           0.009146  0.012195  0.567581\n",
       "10          0.008638  0.024898  0.585874\n",
       "15          0.005081  0.013211  0.557419\n",
       "20          0.014736  0.032520  0.676829"
      ]
     },
     "execution_count": 45,
     "metadata": {},
     "output_type": "execute_result"
    }
   ],
   "source": [
    "results_attack"
   ]
  },
  {
   "cell_type": "code",
   "execution_count": null,
   "metadata": {},
   "outputs": [],
   "source": []
  }
 ],
 "metadata": {
  "kernelspec": {
   "display_name": "Python 3",
   "language": "python",
   "name": "python3"
  },
  "language_info": {
   "codemirror_mode": {
    "name": "ipython",
    "version": 3
   },
   "file_extension": ".py",
   "mimetype": "text/x-python",
   "name": "python",
   "nbconvert_exporter": "python",
   "pygments_lexer": "ipython3",
   "version": "3.7.3"
  }
 },
 "nbformat": 4,
 "nbformat_minor": 2
}
