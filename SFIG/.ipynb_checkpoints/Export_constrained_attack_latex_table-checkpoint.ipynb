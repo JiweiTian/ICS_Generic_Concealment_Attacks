{
 "cells": [
  {
   "cell_type": "code",
   "execution_count": 8,
   "metadata": {},
   "outputs": [],
   "source": [
    "import pandas as pd\n",
    "\n",
    "results = pd.read_csv('results.csv')\n",
    "results = results.set_index('Unnamed: 0')"
   ]
  },
  {
   "cell_type": "code",
   "execution_count": 13,
   "metadata": {},
   "outputs": [
    {
     "ename": "ValueError",
     "evalue": "Cannot specify both 'labels' and 'index'/'columns'",
     "output_type": "error",
     "traceback": [
      "\u001b[0;31m---------------------------------------------------------------------------\u001b[0m",
      "\u001b[0;31mValueError\u001b[0m                                Traceback (most recent call last)",
      "\u001b[0;32m<ipython-input-13-17dd186cbc28>\u001b[0m in \u001b[0;36m<module>\u001b[0;34m\u001b[0m\n\u001b[0;32m----> 1\u001b[0;31m \u001b[0mresults\u001b[0m\u001b[0;34m.\u001b[0m\u001b[0mdrop\u001b[0m\u001b[0;34m(\u001b[0m\u001b[0;34m'accuracy'\u001b[0m\u001b[0;34m,\u001b[0m \u001b[0;34m'f1_score'\u001b[0m\u001b[0;34m,\u001b[0m \u001b[0;34m'precision'\u001b[0m\u001b[0;34m,\u001b[0m \u001b[0;34m'fpr'\u001b[0m\u001b[0;34m)\u001b[0m\u001b[0;34m\u001b[0m\u001b[0;34m\u001b[0m\u001b[0m\n\u001b[0m",
      "\u001b[0;32m~/anaconda3/lib/python3.7/site-packages/pandas/core/frame.py\u001b[0m in \u001b[0;36mdrop\u001b[0;34m(self, labels, axis, index, columns, level, inplace, errors)\u001b[0m\n\u001b[1;32m   3938\u001b[0m                                            \u001b[0mindex\u001b[0m\u001b[0;34m=\u001b[0m\u001b[0mindex\u001b[0m\u001b[0;34m,\u001b[0m \u001b[0mcolumns\u001b[0m\u001b[0;34m=\u001b[0m\u001b[0mcolumns\u001b[0m\u001b[0;34m,\u001b[0m\u001b[0;34m\u001b[0m\u001b[0;34m\u001b[0m\u001b[0m\n\u001b[1;32m   3939\u001b[0m                                            \u001b[0mlevel\u001b[0m\u001b[0;34m=\u001b[0m\u001b[0mlevel\u001b[0m\u001b[0;34m,\u001b[0m \u001b[0minplace\u001b[0m\u001b[0;34m=\u001b[0m\u001b[0minplace\u001b[0m\u001b[0;34m,\u001b[0m\u001b[0;34m\u001b[0m\u001b[0;34m\u001b[0m\u001b[0m\n\u001b[0;32m-> 3940\u001b[0;31m                                            errors=errors)\n\u001b[0m\u001b[1;32m   3941\u001b[0m \u001b[0;34m\u001b[0m\u001b[0m\n\u001b[1;32m   3942\u001b[0m     @rewrite_axis_style_signature('mapper', [('copy', True),\n",
      "\u001b[0;32m~/anaconda3/lib/python3.7/site-packages/pandas/core/generic.py\u001b[0m in \u001b[0;36mdrop\u001b[0;34m(self, labels, axis, index, columns, level, inplace, errors)\u001b[0m\n\u001b[1;32m   3764\u001b[0m         \u001b[0;32mif\u001b[0m \u001b[0mlabels\u001b[0m \u001b[0;32mis\u001b[0m \u001b[0;32mnot\u001b[0m \u001b[0;32mNone\u001b[0m\u001b[0;34m:\u001b[0m\u001b[0;34m\u001b[0m\u001b[0;34m\u001b[0m\u001b[0m\n\u001b[1;32m   3765\u001b[0m             \u001b[0;32mif\u001b[0m \u001b[0mindex\u001b[0m \u001b[0;32mis\u001b[0m \u001b[0;32mnot\u001b[0m \u001b[0;32mNone\u001b[0m \u001b[0;32mor\u001b[0m \u001b[0mcolumns\u001b[0m \u001b[0;32mis\u001b[0m \u001b[0;32mnot\u001b[0m \u001b[0;32mNone\u001b[0m\u001b[0;34m:\u001b[0m\u001b[0;34m\u001b[0m\u001b[0;34m\u001b[0m\u001b[0m\n\u001b[0;32m-> 3766\u001b[0;31m                 raise ValueError(\"Cannot specify both 'labels' and \"\n\u001b[0m\u001b[1;32m   3767\u001b[0m                                  \"'index'/'columns'\")\n\u001b[1;32m   3768\u001b[0m             \u001b[0maxis_name\u001b[0m \u001b[0;34m=\u001b[0m \u001b[0mself\u001b[0m\u001b[0;34m.\u001b[0m\u001b[0m_get_axis_name\u001b[0m\u001b[0;34m(\u001b[0m\u001b[0maxis\u001b[0m\u001b[0;34m)\u001b[0m\u001b[0;34m\u001b[0m\u001b[0;34m\u001b[0m\u001b[0m\n",
      "\u001b[0;31mValueError\u001b[0m: Cannot specify both 'labels' and 'index'/'columns'"
     ]
    }
   ],
   "source": [
    "results.drop(['accuracy', 'f1_score', 'precision', 'fpr'])"
   ]
  },
  {
   "cell_type": "code",
   "execution_count": 12,
   "metadata": {},
   "outputs": [
    {
     "data": {
      "text/html": [
       "<div>\n",
       "<style scoped>\n",
       "    .dataframe tbody tr th:only-of-type {\n",
       "        vertical-align: middle;\n",
       "    }\n",
       "\n",
       "    .dataframe tbody tr th {\n",
       "        vertical-align: top;\n",
       "    }\n",
       "\n",
       "    .dataframe thead th {\n",
       "        text-align: right;\n",
       "    }\n",
       "</style>\n",
       "<table border=\"1\" class=\"dataframe\">\n",
       "  <thead>\n",
       "    <tr style=\"text-align: right;\">\n",
       "      <th>Unnamed: 0</th>\n",
       "      <th>constrained_constant_allowed_2</th>\n",
       "      <th>constrained_constant_allowed_3</th>\n",
       "      <th>constrained_constant_allowed_4</th>\n",
       "      <th>constrained_constant_allowed_5</th>\n",
       "      <th>constrained_constant_allowed_6</th>\n",
       "      <th>constrained_constant_allowed_7</th>\n",
       "      <th>constrained_constant_allowed_8</th>\n",
       "      <th>constrained_constant_allowed_9</th>\n",
       "    </tr>\n",
       "  </thead>\n",
       "  <tbody>\n",
       "    <tr>\n",
       "      <th>accuracy</th>\n",
       "      <td>0.923227</td>\n",
       "      <td>0.915251</td>\n",
       "      <td>0.877706</td>\n",
       "      <td>0.877706</td>\n",
       "      <td>0.877760</td>\n",
       "      <td>0.877923</td>\n",
       "      <td>0.877869</td>\n",
       "      <td>0.877435</td>\n",
       "    </tr>\n",
       "    <tr>\n",
       "      <th>f1_score</th>\n",
       "      <td>0.550365</td>\n",
       "      <td>0.479333</td>\n",
       "      <td>0.023397</td>\n",
       "      <td>0.023397</td>\n",
       "      <td>0.024253</td>\n",
       "      <td>0.025130</td>\n",
       "      <td>0.024274</td>\n",
       "      <td>0.017399</td>\n",
       "    </tr>\n",
       "    <tr>\n",
       "      <th>precision</th>\n",
       "      <td>0.734521</td>\n",
       "      <td>0.696705</td>\n",
       "      <td>0.079412</td>\n",
       "      <td>0.079412</td>\n",
       "      <td>0.082111</td>\n",
       "      <td>0.085294</td>\n",
       "      <td>0.082596</td>\n",
       "      <td>0.060423</td>\n",
       "    </tr>\n",
       "    <tr>\n",
       "      <th>recall</th>\n",
       "      <td>0.440041</td>\n",
       "      <td>0.365346</td>\n",
       "      <td>0.013720</td>\n",
       "      <td>0.013720</td>\n",
       "      <td>0.014228</td>\n",
       "      <td>0.014736</td>\n",
       "      <td>0.014228</td>\n",
       "      <td>0.010163</td>\n",
       "    </tr>\n",
       "    <tr>\n",
       "      <th>fpr</th>\n",
       "      <td>0.019012</td>\n",
       "      <td>0.019012</td>\n",
       "      <td>0.019012</td>\n",
       "      <td>0.019012</td>\n",
       "      <td>0.019012</td>\n",
       "      <td>0.018891</td>\n",
       "      <td>0.018891</td>\n",
       "      <td>0.018891</td>\n",
       "    </tr>\n",
       "  </tbody>\n",
       "</table>\n",
       "</div>"
      ],
      "text/plain": [
       "Unnamed: 0  constrained_constant_allowed_2  constrained_constant_allowed_3  \\\n",
       "accuracy                          0.923227                        0.915251   \n",
       "f1_score                          0.550365                        0.479333   \n",
       "precision                         0.734521                        0.696705   \n",
       "recall                            0.440041                        0.365346   \n",
       "fpr                               0.019012                        0.019012   \n",
       "\n",
       "Unnamed: 0  constrained_constant_allowed_4  constrained_constant_allowed_5  \\\n",
       "accuracy                          0.877706                        0.877706   \n",
       "f1_score                          0.023397                        0.023397   \n",
       "precision                         0.079412                        0.079412   \n",
       "recall                            0.013720                        0.013720   \n",
       "fpr                               0.019012                        0.019012   \n",
       "\n",
       "Unnamed: 0  constrained_constant_allowed_6  constrained_constant_allowed_7  \\\n",
       "accuracy                          0.877760                        0.877923   \n",
       "f1_score                          0.024253                        0.025130   \n",
       "precision                         0.082111                        0.085294   \n",
       "recall                            0.014228                        0.014736   \n",
       "fpr                               0.019012                        0.018891   \n",
       "\n",
       "Unnamed: 0  constrained_constant_allowed_8  constrained_constant_allowed_9  \n",
       "accuracy                          0.877869                        0.877435  \n",
       "f1_score                          0.024274                        0.017399  \n",
       "precision                         0.082596                        0.060423  \n",
       "recall                            0.014228                        0.010163  \n",
       "fpr                               0.018891                        0.018891  "
      ]
     },
     "execution_count": 12,
     "metadata": {},
     "output_type": "execute_result"
    }
   ],
   "source": [
    "results.transpose()"
   ]
  },
  {
   "cell_type": "code",
   "execution_count": null,
   "metadata": {},
   "outputs": [],
   "source": []
  }
 ],
 "metadata": {
  "kernelspec": {
   "display_name": "Python 3",
   "language": "python",
   "name": "python3"
  },
  "language_info": {
   "codemirror_mode": {
    "name": "ipython",
    "version": 3
   },
   "file_extension": ".py",
   "mimetype": "text/x-python",
   "name": "python",
   "nbconvert_exporter": "python",
   "pygments_lexer": "ipython3",
   "version": "3.7.3"
  }
 },
 "nbformat": 4,
 "nbformat_minor": 2
}
